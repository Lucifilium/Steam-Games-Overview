{
 "cells": [
  {
   "cell_type": "markdown",
   "id": "30ec9cc7",
   "metadata": {},
   "source": [
    "# Steam games analysis"
   ]
  },
  {
   "cell_type": "markdown",
   "id": "d36d4fd4",
   "metadata": {},
   "source": [
    "## Introduction\n",
    "\n",
    "Steam is a popular online platform which provides the user with automatic game updating, game cloud synchronization, and community features such as friends messaging, in-game chat and a community market. The focus of this project will be on the Steam Store page that contains a huge catalouge of games and has been constantly releasing multitude of games over the years from major developers to indie game designers. With it, comes varying opinons and ratings that can affect the game's popularity.\n",
    "\n",
    "This project is to explore the recent new releases of such games to identify what affects the popularity of them. I wanted to use Natural Language Processing to explore the sentiments of the user reviews of different games to identify various key words."
   ]
  },
  {
   "cell_type": "markdown",
   "id": "b4f8690e",
   "metadata": {},
   "source": [
    "## Aims and Objectives\n",
    "\n",
    "Within this project, I would like to explore the following:\n",
    "\n",
    "- Analysing games ratings and prices\n",
    "- Identifying key words in reviews\n",
    "- Measuring usage of words\n",
    "\n",
    "For this project, my aims are to:\n",
    "\n",
    "1. Decide how much data is required to sufficiently explore the above questions, taking into consideration constraints on time and resources\n",
    "2. Collect the data via webscraping and store them in a form which allows for data cleaning and analysis\n",
    "3. Clean and transform the data such that it is suitable for analysing\n",
    "4. Carry out some exploratory data analysis to identify that there are trends within the data which make it viable for further exploration"
   ]
  },
  {
   "cell_type": "markdown",
   "id": "66abcdb3",
   "metadata": {},
   "source": [
    "## Data\n",
    "\n",
    "I have chosen to try and retreive at least a year worth of games from the new releases page instead of top selling page as the latter games are usually positively reviewed. This allows me to gather negative and positive game ratings from across the year. The processed data will then be stored in pickle format to be read and clean.\n",
    "\n",
    "### Limitations\n",
    "However newly released games will not have any reviews available at the time, therefore will not have any data for ratings and reviews to extract from. Furthermore, several games have less than 10 reviews available which will impact the collection of data. Scraping a year worth of data takes a long time to complete, thus data extraction will only be done once in consideration with the time constraints. "
   ]
  },
  {
   "cell_type": "markdown",
   "id": "64febdda",
   "metadata": {},
   "source": [
    "## Ethical considerations\n",
    "\n",
    "Steam does not have a clause forbidding webscraping in their terms and conditions. I used robots.txt to check to ensure there was no Disallow clause on the site. Furthermore, all data provided are in the public domain. Any Steam user is able to write a review if they own the game thus some reviews may be harmful to others."
   ]
  },
  {
   "cell_type": "markdown",
   "id": "20f78d7f",
   "metadata": {},
   "source": [
    "### Selenium\n",
    "\n",
    "To get started, I installed Selenium to perform the webscrap as Steam website is a dynamic website, which allows for infinite scrolling on one page."
   ]
  },
  {
   "cell_type": "code",
   "execution_count": null,
   "id": "551a546d",
   "metadata": {},
   "outputs": [],
   "source": [
    "#!pip install selenium\n",
    "#!pip install word"
   ]
  },
  {
   "cell_type": "code",
   "execution_count": 1,
   "id": "d39a746c",
   "metadata": {},
   "outputs": [],
   "source": [
    "# Import libraries and modules\n",
    "import pandas as pd\n",
    "import requests\n",
    "from bs4 import BeautifulSoup\n",
    "import numpy as np\n",
    "import matplotlib.pyplot as plt\n",
    "%matplotlib inline\n",
    "from selenium import webdriver\n",
    "from selenium.webdriver.common.by import By\n",
    "from selenium.webdriver.support.select import Select\n",
    "import time\n",
    "import pickle\n",
    "import nltk\n",
    "import seaborn as sns\n",
    "from nltk.tokenize import RegexpTokenizer\n",
    "import re\n",
    "from string import punctuation\n",
    "from nltk.corpus import stopwords\n",
    "from nltk import FreqDist\n",
    "from wordcloud import WordCloud\n",
    "nltk.download('stopwords')\n",
    "nltk.download('punkt')"
   ]
  },
  {
   "cell_type": "markdown",
   "id": "03de572b",
   "metadata": {},
   "source": [
    "### Webdriver\n",
    "\n",
    "Below is the function to create a webdriver so that the website simulates it running on a website allowing the dynamic content to be loaded."
   ]
  },
  {
   "cell_type": "code",
   "execution_count": 2,
   "id": "404ca7db",
   "metadata": {},
   "outputs": [],
   "source": [
    "def web_driver(url):\n",
    "    options = webdriver.ChromeOptions()\n",
    "    options.add_argument('--headless')\n",
    "    options.add_argument('--no-sandbox')\n",
    "    options.add_argument('--disable-dev-shm-usage')\n",
    "    driver = webdriver.Chrome(options=options)\n",
    "    driver.get(url)\n",
    "    return driver"
   ]
  },
  {
   "cell_type": "markdown",
   "id": "5762131b",
   "metadata": {},
   "source": [
    "### Scrolling\n",
    "\n",
    "The below function simulates scrolling down to the bottom of the page"
   ]
  },
  {
   "cell_type": "code",
   "execution_count": 3,
   "id": "5c11489e",
   "metadata": {},
   "outputs": [],
   "source": [
    "def scroll_page(driver):\n",
    "    SCROLL_PAUSE_TIME = 2\n",
    "    # Get scroll height\n",
    "    last_height = driver.execute_script(\"return document.body.scrollHeight\")\n",
    "    # Loads the next page 190 times\n",
    "    for i in range(190): \n",
    "        # Scroll down to bottom\n",
    "        driver.execute_script(\"window.scrollTo(0, document.body.scrollHeight);\")\n",
    "        # Wait to load page\n",
    "        time.sleep(SCROLL_PAUSE_TIME)\n",
    "        # Calculate new scroll height and compare with last scroll height\n",
    "        new_height = driver.execute_script(\"return document.body.scrollHeight\")\n",
    "        if new_height == last_height:\n",
    "            break\n",
    "            last_height = new_height"
   ]
  },
  {
   "cell_type": "markdown",
   "id": "0a0e38d2",
   "metadata": {},
   "source": [
    "### Extracting information\n",
    "\n",
    "The functions below are to extract the game's information such as its app-id, title and url. "
   ]
  },
  {
   "cell_type": "code",
   "execution_count": 4,
   "id": "ef13e3ad",
   "metadata": {},
   "outputs": [],
   "source": [
    "def n_games(driver):\n",
    "    games_rows = driver.find_element(By.ID, 'search_resultsRows')\n",
    "    games = games_rows.find_elements(By.TAG_NAME,'a')\n",
    "    return games"
   ]
  },
  {
   "cell_type": "code",
   "execution_count": 5,
   "id": "ba300e02",
   "metadata": {},
   "outputs": [],
   "source": [
    "def parse_data(games):\n",
    "    games_list = []\n",
    "    #loops through all the games\n",
    "    for i in range(len(games)):\n",
    "        appid = games[i].get_attribute('data-ds-appid')\n",
    "        title = games[i].find_element(By.CLASS_NAME,'title').text\n",
    "        game_url = games[i].get_attribute('href')\n",
    "        #storing the extracted information inside a dictionary\n",
    "        game_data = {\n",
    "            'appid': appid,\n",
    "            'title': title,\n",
    "            'url': game_url,\n",
    "        }\n",
    "        games_list.append(game_data)\n",
    "    return games_list"
   ]
  },
  {
   "cell_type": "markdown",
   "id": "5cd4dd90",
   "metadata": {},
   "source": [
    "### Bypassing\n",
    "\n",
    "Certain games are blocked by an age restriction check, therefore the following function is created to bypass it."
   ]
  },
  {
   "cell_type": "code",
   "execution_count": 6,
   "id": "119ced14",
   "metadata": {},
   "outputs": [],
   "source": [
    "def check_page(driver):\n",
    "    try:\n",
    "        try:\n",
    "            info_tag = driver.find_element(By.CLASS_NAME, 'glance_ctn_responsive_left')\n",
    "            return driver\n",
    "        except:\n",
    "            year_tag = driver.find_element(By.CLASS_NAME, 'agegate_birthday_selector')\n",
    "            year = year_tag.find_element(By.ID, 'ageYear')\n",
    "            yearDD = Select(year)\n",
    "            yearDD.select_by_value('1900')\n",
    "            view_button = driver.find_element(By.XPATH, '//*[@id=\"view_product_page_btn\"]')\n",
    "            view_button.click()\n",
    "            time.sleep(4)\n",
    "    except:\n",
    "        return driver\n",
    "    return driver"
   ]
  },
  {
   "cell_type": "markdown",
   "id": "fd9994f9",
   "metadata": {},
   "source": [
    "### Game's data\n",
    "\n",
    "The follwing functions are to gather a game's price, release date and its ratings."
   ]
  },
  {
   "cell_type": "code",
   "execution_count": 7,
   "id": "0bd7b98f",
   "metadata": {},
   "outputs": [],
   "source": [
    "def get_price(driver):\n",
    "    try:  \n",
    "        try:  \n",
    "            try:\n",
    "                price_tag = driver.find_element(By.CLASS_NAME, 'game_purchase_action')\n",
    "                # Removing $ and S$ from prices\n",
    "                price = price_tag.find_element(By.CLASS_NAME, 'price').text.strip('$').strip('S$')\n",
    "                try:\n",
    "                    num = float(price)\n",
    "                except ValueError:\n",
    "                    price = '0'\n",
    "                return price\n",
    "            except:\n",
    "                price_tag = driver.find_element(By.CLASS_NAME, 'discount_prices')\n",
    "                prices = price_tag.text.strip().replace('\\n')\n",
    "                price = prices[1]\n",
    "            return price\n",
    "        except:\n",
    "            price_tag = driver.find_element(By.CLASS_NAME, 'discount_prices')\n",
    "            price = price_tag.find_element(By.CLASS_NAME, 'discount_original_price').text.split('$')[1]\n",
    "        return price\n",
    "    except:\n",
    "        # If game is free to play or has no pricing available\n",
    "        price = '0'\n",
    "    return price"
   ]
  },
  {
   "cell_type": "code",
   "execution_count": 8,
   "id": "f034121b",
   "metadata": {},
   "outputs": [],
   "source": [
    "def get_release(driver):\n",
    "    try:\n",
    "        info_tag = driver.find_element(By.CLASS_NAME, 'glance_ctn_responsive_left')\n",
    "        release = info_tag.find_element(By.CLASS_NAME, 'release_date').text.strip().replace('RELEASE DATE:\\n','')\n",
    "    except:\n",
    "        release = 'not available'\n",
    "    return release"
   ]
  },
  {
   "cell_type": "code",
   "execution_count": 9,
   "id": "27dcc30f",
   "metadata": {},
   "outputs": [],
   "source": [
    "def get_overall_reviews(driver):\n",
    "    try:\n",
    "        info_tag = driver.find_element(By.CLASS_NAME, 'glance_ctn_responsive_left')\n",
    "        try:\n",
    "            overall_reviews = info_tag.find_element(By.XPATH, '//*[@id=\"userReviews\"]/div[2]').text.replace('ALL REVIEWS:\\n', '')\n",
    "        except:\n",
    "            overall_reviews = info_tag.find_element(By.CLASS_NAME, 'user_reviews').text.replace('ALL REVIEWS:\\n', '')\n",
    "    except:\n",
    "        overall_reviews = 'not available'\n",
    "    return overall_reviews"
   ]
  },
  {
   "cell_type": "code",
   "execution_count": 10,
   "id": "9040b85f",
   "metadata": {},
   "outputs": [],
   "source": [
    "def get_page(url, driver):\n",
    "    driver.get(url)\n",
    "    return driver"
   ]
  },
  {
   "cell_type": "markdown",
   "id": "7d929d47",
   "metadata": {},
   "source": [
    "Takes the url and returns a dictionary"
   ]
  },
  {
   "cell_type": "code",
   "execution_count": 11,
   "id": "c9cb5e78",
   "metadata": {},
   "outputs": [],
   "source": [
    "def get_game_info(url, driver):\n",
    "    driver_1 = get_page(url, driver)\n",
    "    driver_new = check_page(driver_1)\n",
    "    price = get_price(driver_new)\n",
    "    release = get_release(driver_new)\n",
    "    overall_reviews = get_overall_reviews(driver_new)\n",
    "    gamedata = {\n",
    "            'Price': price,\n",
    "            'Release date': release,\n",
    "            'Reviews': overall_reviews\n",
    "           }\n",
    "    return gamedata"
   ]
  },
  {
   "cell_type": "markdown",
   "id": "85deaa10",
   "metadata": {},
   "source": [
    "Function for looping through all games for their data by taking get_game_info function"
   ]
  },
  {
   "cell_type": "code",
   "execution_count": 12,
   "id": "53b400d9",
   "metadata": {},
   "outputs": [],
   "source": [
    "def get_all_games(games_url, driver):\n",
    "    game_info_list = []\n",
    "    for i in games_url:\n",
    "        game_info = get_game_info(i, driver)\n",
    "        game_info_list.append(game_info)\n",
    "        game_info_df = pd.DataFrame(game_info_list)\n",
    "    return game_info_df"
   ]
  },
  {
   "cell_type": "markdown",
   "id": "4e5468cd",
   "metadata": {},
   "source": [
    "### Main\n",
    "\n",
    "The main function is to execute all the previous function. Once the data has been gathered, I will combine the dataframes from gamesdf and game_info_df into result and dropping reviews that have 'no user reviews' and finally storing it into a pickle file."
   ]
  },
  {
   "cell_type": "code",
   "execution_count": 13,
   "id": "724eabe4",
   "metadata": {},
   "outputs": [],
   "source": [
    "def main():\n",
    "    driver = web_driver('https://store.steampowered.com/search/?sort_by=Released_DESC&category1=998&supportedlang=english&hidef2p=1&ndl=1')\n",
    "    scroll_page(driver)\n",
    "    games = n_games(driver)\n",
    "    games_list = parse_data(games)\n",
    "    gamesdf = pd.DataFrame(games_list)\n",
    "    gamesdf.to_pickle('Data/appid_games.pkl.gz', index=False)\n",
    "    games_url = gamesdf['url']\n",
    "    print(len(games_url))\n",
    "    \n",
    "    game_info_df = get_all_games(games_url, driver)\n",
    "    \n",
    "    result = pd.concat([gamesdf, game_info_df], axis=1, join='inner')\n",
    "    result = result.drop(result[result.Reviews == 'No user reviews'].index)\n",
    "    result.reset_index(drop=True, inplace=True)\n",
    "    print(result)\n",
    "    result.to_pickle('Data/new_releases.pkl.gz', index=False)"
   ]
  },
  {
   "cell_type": "code",
   "execution_count": null,
   "id": "24c96842",
   "metadata": {
    "scrolled": true
   },
   "outputs": [],
   "source": [
    "main()"
   ]
  },
  {
   "cell_type": "markdown",
   "id": "de41ef28",
   "metadata": {},
   "source": [
    "9550\n",
    "        appid                           title  \\\n",
    "0     2162160                   The Passenger   \n",
    "1     1877410                      Fairy Deer   \n",
    "2     2251240            Police Car Simulator   \n",
    "3     2225690                        HugeHead   \n",
    "4     1267560                        In Space   \n",
    "...       ...                             ...   \n",
    "8198  1751630  Hello Lady! - Complete Edition   \n",
    "8199  1827730                     Adarin Farm   \n",
    "8200  1864210                      Zombie War   \n",
    "8201  1451940         NEEDY STREAMER OVERLOAD   \n",
    "8202  1863170               From Dusk To Dawn   \n",
    "\n",
    "                                                    url  Price  Release date  \\\n",
    "0     https://store.steampowered.com/app/2162160/The...   7.50  30 Dec, 2022   \n",
    "1     https://store.steampowered.com/app/1877410/Fai...   2.15  30 Dec, 2022   \n",
    "2     https://store.steampowered.com/app/2251240/Pol...   1.10  29 Dec, 2022   \n",
    "3     https://store.steampowered.com/app/2225690/Hug...   3.25  29 Dec, 2022   \n",
    "4     https://store.steampowered.com/app/1267560/In_...   3.25  29 Dec, 2022   \n",
    "...                                                 ...    ...           ...   \n",
    "8198  https://store.steampowered.com/app/1751630/Hel...  26.00  21 Jan, 2022   \n",
    "8199  https://store.steampowered.com/app/1827730/Ada...   6.50  21 Jan, 2022   \n",
    "8200  https://store.steampowered.com/app/1864210/Zom...   7.50  21 Jan, 2022   \n",
    "8201  https://store.steampowered.com/app/1451940/NEE...  15.00  21 Jan, 2022   \n",
    "8202  https://store.steampowered.com/app/1863170/Fro...   7.50  21 Jan, 2022   \n",
    "\n",
    "                                                Reviews  \n",
    "0     1 user reviews - Need more user reviews to gen...  \n",
    "1     6 user reviews - Need more user reviews to gen...  \n",
    "2     1 user reviews - Need more user reviews to gen...  \n",
    "3     1 user reviews - Need more user reviews to gen...  \n",
    "4     1 user reviews - Need more user reviews to gen...  \n",
    "...                                                 ...  \n",
    "8198  Very Positive - 86% of the 95 user reviews for...  \n",
    "8199  8 user reviews - Need more user reviews to gen...  \n",
    "8200  2 user reviews - Need more user reviews to gen...  \n",
    "8201  Overwhelmingly Positive - 95% of the 18,078 us...  \n",
    "8202  7 user reviews - Need more user reviews to gen...  \n",
    "\n",
    "[8203 rows x 6 columns]"
   ]
  },
  {
   "cell_type": "markdown",
   "id": "c664f5fe",
   "metadata": {},
   "source": [
    "### Checking and preparing for processing\n",
    "\n",
    "Reading the pickle file to dataframe."
   ]
  },
  {
   "cell_type": "code",
   "execution_count": 14,
   "id": "fc144815",
   "metadata": {},
   "outputs": [
    {
     "data": {
      "text/html": [
       "<div>\n",
       "<style scoped>\n",
       "    .dataframe tbody tr th:only-of-type {\n",
       "        vertical-align: middle;\n",
       "    }\n",
       "\n",
       "    .dataframe tbody tr th {\n",
       "        vertical-align: top;\n",
       "    }\n",
       "\n",
       "    .dataframe thead th {\n",
       "        text-align: right;\n",
       "    }\n",
       "</style>\n",
       "<table border=\"1\" class=\"dataframe\">\n",
       "  <thead>\n",
       "    <tr style=\"text-align: right;\">\n",
       "      <th></th>\n",
       "      <th>appid</th>\n",
       "      <th>title</th>\n",
       "      <th>url</th>\n",
       "      <th>Price</th>\n",
       "      <th>Release date</th>\n",
       "      <th>Reviews</th>\n",
       "    </tr>\n",
       "  </thead>\n",
       "  <tbody>\n",
       "    <tr>\n",
       "      <th>0</th>\n",
       "      <td>2162160</td>\n",
       "      <td>The Passenger</td>\n",
       "      <td>https://store.steampowered.com/app/2162160/The...</td>\n",
       "      <td>7.50</td>\n",
       "      <td>30 Dec, 2022</td>\n",
       "      <td>1 user reviews - Need more user reviews to gen...</td>\n",
       "    </tr>\n",
       "    <tr>\n",
       "      <th>1</th>\n",
       "      <td>1877410</td>\n",
       "      <td>Fairy Deer</td>\n",
       "      <td>https://store.steampowered.com/app/1877410/Fai...</td>\n",
       "      <td>2.15</td>\n",
       "      <td>30 Dec, 2022</td>\n",
       "      <td>6 user reviews - Need more user reviews to gen...</td>\n",
       "    </tr>\n",
       "    <tr>\n",
       "      <th>2</th>\n",
       "      <td>2251240</td>\n",
       "      <td>Police Car Simulator</td>\n",
       "      <td>https://store.steampowered.com/app/2251240/Pol...</td>\n",
       "      <td>1.10</td>\n",
       "      <td>29 Dec, 2022</td>\n",
       "      <td>1 user reviews - Need more user reviews to gen...</td>\n",
       "    </tr>\n",
       "    <tr>\n",
       "      <th>3</th>\n",
       "      <td>2225690</td>\n",
       "      <td>HugeHead</td>\n",
       "      <td>https://store.steampowered.com/app/2225690/Hug...</td>\n",
       "      <td>3.25</td>\n",
       "      <td>29 Dec, 2022</td>\n",
       "      <td>1 user reviews - Need more user reviews to gen...</td>\n",
       "    </tr>\n",
       "    <tr>\n",
       "      <th>4</th>\n",
       "      <td>1267560</td>\n",
       "      <td>In Space</td>\n",
       "      <td>https://store.steampowered.com/app/1267560/In_...</td>\n",
       "      <td>3.25</td>\n",
       "      <td>29 Dec, 2022</td>\n",
       "      <td>1 user reviews - Need more user reviews to gen...</td>\n",
       "    </tr>\n",
       "    <tr>\n",
       "      <th>5</th>\n",
       "      <td>2241880</td>\n",
       "      <td>Gunslinger Top down shooter</td>\n",
       "      <td>https://store.steampowered.com/app/2241880/Gun...</td>\n",
       "      <td>2.15</td>\n",
       "      <td>29 Dec, 2022</td>\n",
       "      <td>1 user reviews - Need more user reviews to gen...</td>\n",
       "    </tr>\n",
       "    <tr>\n",
       "      <th>6</th>\n",
       "      <td>2244620</td>\n",
       "      <td>Blacklight</td>\n",
       "      <td>https://store.steampowered.com/app/2244620/Bla...</td>\n",
       "      <td>3.05</td>\n",
       "      <td>29 Dec, 2022</td>\n",
       "      <td>1 user reviews - Need more user reviews to gen...</td>\n",
       "    </tr>\n",
       "    <tr>\n",
       "      <th>7</th>\n",
       "      <td>1572320</td>\n",
       "      <td>Malfunction II</td>\n",
       "      <td>https://store.steampowered.com/app/1572320/Mal...</td>\n",
       "      <td>0.00</td>\n",
       "      <td>29 Dec, 2022</td>\n",
       "      <td>2 user reviews - Need more user reviews to gen...</td>\n",
       "    </tr>\n",
       "    <tr>\n",
       "      <th>8</th>\n",
       "      <td>2217730</td>\n",
       "      <td>theBlu</td>\n",
       "      <td>https://store.steampowered.com/app/2217730/the...</td>\n",
       "      <td>0.00</td>\n",
       "      <td>29 Dec, 2022</td>\n",
       "      <td>8 user reviews - Need more user reviews to gen...</td>\n",
       "    </tr>\n",
       "    <tr>\n",
       "      <th>9</th>\n",
       "      <td>2235350</td>\n",
       "      <td>Family Business</td>\n",
       "      <td>https://store.steampowered.com/app/2235350/Fam...</td>\n",
       "      <td>5.25</td>\n",
       "      <td>29 Dec, 2022</td>\n",
       "      <td>1 user reviews - Need more user reviews to gen...</td>\n",
       "    </tr>\n",
       "  </tbody>\n",
       "</table>\n",
       "</div>"
      ],
      "text/plain": [
       "     appid                        title  \\\n",
       "0  2162160                The Passenger   \n",
       "1  1877410                   Fairy Deer   \n",
       "2  2251240         Police Car Simulator   \n",
       "3  2225690                     HugeHead   \n",
       "4  1267560                     In Space   \n",
       "5  2241880  Gunslinger Top down shooter   \n",
       "6  2244620                   Blacklight   \n",
       "7  1572320               Malfunction II   \n",
       "8  2217730                       theBlu   \n",
       "9  2235350              Family Business   \n",
       "\n",
       "                                                 url  Price  Release date  \\\n",
       "0  https://store.steampowered.com/app/2162160/The...   7.50  30 Dec, 2022   \n",
       "1  https://store.steampowered.com/app/1877410/Fai...   2.15  30 Dec, 2022   \n",
       "2  https://store.steampowered.com/app/2251240/Pol...   1.10  29 Dec, 2022   \n",
       "3  https://store.steampowered.com/app/2225690/Hug...   3.25  29 Dec, 2022   \n",
       "4  https://store.steampowered.com/app/1267560/In_...   3.25  29 Dec, 2022   \n",
       "5  https://store.steampowered.com/app/2241880/Gun...   2.15  29 Dec, 2022   \n",
       "6  https://store.steampowered.com/app/2244620/Bla...   3.05  29 Dec, 2022   \n",
       "7  https://store.steampowered.com/app/1572320/Mal...   0.00  29 Dec, 2022   \n",
       "8  https://store.steampowered.com/app/2217730/the...   0.00  29 Dec, 2022   \n",
       "9  https://store.steampowered.com/app/2235350/Fam...   5.25  29 Dec, 2022   \n",
       "\n",
       "                                             Reviews  \n",
       "0  1 user reviews - Need more user reviews to gen...  \n",
       "1  6 user reviews - Need more user reviews to gen...  \n",
       "2  1 user reviews - Need more user reviews to gen...  \n",
       "3  1 user reviews - Need more user reviews to gen...  \n",
       "4  1 user reviews - Need more user reviews to gen...  \n",
       "5  1 user reviews - Need more user reviews to gen...  \n",
       "6  1 user reviews - Need more user reviews to gen...  \n",
       "7  2 user reviews - Need more user reviews to gen...  \n",
       "8  8 user reviews - Need more user reviews to gen...  \n",
       "9  1 user reviews - Need more user reviews to gen...  "
      ]
     },
     "execution_count": 14,
     "metadata": {},
     "output_type": "execute_result"
    }
   ],
   "source": [
    "nr_df = pd.read_pickle('Data/new_releases.pkl.gz')\n",
    "nr_df.head(10)"
   ]
  },
  {
   "cell_type": "code",
   "execution_count": 15,
   "id": "f221c808",
   "metadata": {},
   "outputs": [
    {
     "data": {
      "text/html": [
       "<div>\n",
       "<style scoped>\n",
       "    .dataframe tbody tr th:only-of-type {\n",
       "        vertical-align: middle;\n",
       "    }\n",
       "\n",
       "    .dataframe tbody tr th {\n",
       "        vertical-align: top;\n",
       "    }\n",
       "\n",
       "    .dataframe thead th {\n",
       "        text-align: right;\n",
       "    }\n",
       "</style>\n",
       "<table border=\"1\" class=\"dataframe\">\n",
       "  <thead>\n",
       "    <tr style=\"text-align: right;\">\n",
       "      <th></th>\n",
       "      <th>appid</th>\n",
       "      <th>title</th>\n",
       "      <th>url</th>\n",
       "      <th>Price</th>\n",
       "      <th>Release date</th>\n",
       "      <th>Reviews</th>\n",
       "    </tr>\n",
       "  </thead>\n",
       "  <tbody>\n",
       "    <tr>\n",
       "      <th>8193</th>\n",
       "      <td>1737510</td>\n",
       "      <td>Hardworking Hero</td>\n",
       "      <td>https://store.steampowered.com/app/1737510/Har...</td>\n",
       "      <td>0.00</td>\n",
       "      <td>21 Jan, 2022</td>\n",
       "      <td>7 user reviews - Need more user reviews to gen...</td>\n",
       "    </tr>\n",
       "    <tr>\n",
       "      <th>8194</th>\n",
       "      <td>1727020</td>\n",
       "      <td>爆Z联</td>\n",
       "      <td>https://store.steampowered.com/app/1727020/Z/?...</td>\n",
       "      <td>0.00</td>\n",
       "      <td>21 Jan, 2022</td>\n",
       "      <td>9 user reviews - Need more user reviews to gen...</td>\n",
       "    </tr>\n",
       "    <tr>\n",
       "      <th>8195</th>\n",
       "      <td>1803620</td>\n",
       "      <td>The Monstrous Frontier</td>\n",
       "      <td>https://store.steampowered.com/app/1803620/The...</td>\n",
       "      <td>14.50</td>\n",
       "      <td>21 Jan, 2022</td>\n",
       "      <td>4 user reviews - Need more user reviews to gen...</td>\n",
       "    </tr>\n",
       "    <tr>\n",
       "      <th>8196</th>\n",
       "      <td>1488650</td>\n",
       "      <td>Velocity Noodle</td>\n",
       "      <td>https://store.steampowered.com/app/1488650/Vel...</td>\n",
       "      <td>13.00</td>\n",
       "      <td>21 Jan, 2022</td>\n",
       "      <td>Positive - 95% of the 20 user reviews for this...</td>\n",
       "    </tr>\n",
       "    <tr>\n",
       "      <th>8197</th>\n",
       "      <td>1835870</td>\n",
       "      <td>The Black Cat Magician</td>\n",
       "      <td>https://store.steampowered.com/app/1835870/The...</td>\n",
       "      <td>4.25</td>\n",
       "      <td>21 Jan, 2022</td>\n",
       "      <td>Very Positive - 91% of the 190 user reviews fo...</td>\n",
       "    </tr>\n",
       "    <tr>\n",
       "      <th>8198</th>\n",
       "      <td>1751630</td>\n",
       "      <td>Hello Lady! - Complete Edition</td>\n",
       "      <td>https://store.steampowered.com/app/1751630/Hel...</td>\n",
       "      <td>26.00</td>\n",
       "      <td>21 Jan, 2022</td>\n",
       "      <td>Very Positive - 86% of the 95 user reviews for...</td>\n",
       "    </tr>\n",
       "    <tr>\n",
       "      <th>8199</th>\n",
       "      <td>1827730</td>\n",
       "      <td>Adarin Farm</td>\n",
       "      <td>https://store.steampowered.com/app/1827730/Ada...</td>\n",
       "      <td>6.50</td>\n",
       "      <td>21 Jan, 2022</td>\n",
       "      <td>8 user reviews - Need more user reviews to gen...</td>\n",
       "    </tr>\n",
       "    <tr>\n",
       "      <th>8200</th>\n",
       "      <td>1864210</td>\n",
       "      <td>Zombie War</td>\n",
       "      <td>https://store.steampowered.com/app/1864210/Zom...</td>\n",
       "      <td>7.50</td>\n",
       "      <td>21 Jan, 2022</td>\n",
       "      <td>2 user reviews - Need more user reviews to gen...</td>\n",
       "    </tr>\n",
       "    <tr>\n",
       "      <th>8201</th>\n",
       "      <td>1451940</td>\n",
       "      <td>NEEDY STREAMER OVERLOAD</td>\n",
       "      <td>https://store.steampowered.com/app/1451940/NEE...</td>\n",
       "      <td>15.00</td>\n",
       "      <td>21 Jan, 2022</td>\n",
       "      <td>Overwhelmingly Positive - 95% of the 18,078 us...</td>\n",
       "    </tr>\n",
       "    <tr>\n",
       "      <th>8202</th>\n",
       "      <td>1863170</td>\n",
       "      <td>From Dusk To Dawn</td>\n",
       "      <td>https://store.steampowered.com/app/1863170/Fro...</td>\n",
       "      <td>7.50</td>\n",
       "      <td>21 Jan, 2022</td>\n",
       "      <td>7 user reviews - Need more user reviews to gen...</td>\n",
       "    </tr>\n",
       "  </tbody>\n",
       "</table>\n",
       "</div>"
      ],
      "text/plain": [
       "        appid                           title  \\\n",
       "8193  1737510                Hardworking Hero   \n",
       "8194  1727020                             爆Z联   \n",
       "8195  1803620          The Monstrous Frontier   \n",
       "8196  1488650                 Velocity Noodle   \n",
       "8197  1835870          The Black Cat Magician   \n",
       "8198  1751630  Hello Lady! - Complete Edition   \n",
       "8199  1827730                     Adarin Farm   \n",
       "8200  1864210                      Zombie War   \n",
       "8201  1451940         NEEDY STREAMER OVERLOAD   \n",
       "8202  1863170               From Dusk To Dawn   \n",
       "\n",
       "                                                    url  Price  Release date  \\\n",
       "8193  https://store.steampowered.com/app/1737510/Har...   0.00  21 Jan, 2022   \n",
       "8194  https://store.steampowered.com/app/1727020/Z/?...   0.00  21 Jan, 2022   \n",
       "8195  https://store.steampowered.com/app/1803620/The...  14.50  21 Jan, 2022   \n",
       "8196  https://store.steampowered.com/app/1488650/Vel...  13.00  21 Jan, 2022   \n",
       "8197  https://store.steampowered.com/app/1835870/The...   4.25  21 Jan, 2022   \n",
       "8198  https://store.steampowered.com/app/1751630/Hel...  26.00  21 Jan, 2022   \n",
       "8199  https://store.steampowered.com/app/1827730/Ada...   6.50  21 Jan, 2022   \n",
       "8200  https://store.steampowered.com/app/1864210/Zom...   7.50  21 Jan, 2022   \n",
       "8201  https://store.steampowered.com/app/1451940/NEE...  15.00  21 Jan, 2022   \n",
       "8202  https://store.steampowered.com/app/1863170/Fro...   7.50  21 Jan, 2022   \n",
       "\n",
       "                                                Reviews  \n",
       "8193  7 user reviews - Need more user reviews to gen...  \n",
       "8194  9 user reviews - Need more user reviews to gen...  \n",
       "8195  4 user reviews - Need more user reviews to gen...  \n",
       "8196  Positive - 95% of the 20 user reviews for this...  \n",
       "8197  Very Positive - 91% of the 190 user reviews fo...  \n",
       "8198  Very Positive - 86% of the 95 user reviews for...  \n",
       "8199  8 user reviews - Need more user reviews to gen...  \n",
       "8200  2 user reviews - Need more user reviews to gen...  \n",
       "8201  Overwhelmingly Positive - 95% of the 18,078 us...  \n",
       "8202  7 user reviews - Need more user reviews to gen...  "
      ]
     },
     "execution_count": 15,
     "metadata": {},
     "output_type": "execute_result"
    }
   ],
   "source": [
    "nr_df.tail(10)"
   ]
  },
  {
   "cell_type": "markdown",
   "id": "c28c6ef1",
   "metadata": {},
   "source": [
    "From the head and tail functions, we can see that many of the games in the past year have less than 10 reviews available."
   ]
  },
  {
   "cell_type": "code",
   "execution_count": 16,
   "id": "1f1db1be",
   "metadata": {},
   "outputs": [
    {
     "data": {
      "text/html": [
       "<div>\n",
       "<style scoped>\n",
       "    .dataframe tbody tr th:only-of-type {\n",
       "        vertical-align: middle;\n",
       "    }\n",
       "\n",
       "    .dataframe tbody tr th {\n",
       "        vertical-align: top;\n",
       "    }\n",
       "\n",
       "    .dataframe thead th {\n",
       "        text-align: right;\n",
       "    }\n",
       "</style>\n",
       "<table border=\"1\" class=\"dataframe\">\n",
       "  <thead>\n",
       "    <tr style=\"text-align: right;\">\n",
       "      <th></th>\n",
       "      <th>Price</th>\n",
       "    </tr>\n",
       "  </thead>\n",
       "  <tbody>\n",
       "    <tr>\n",
       "      <th>count</th>\n",
       "      <td>8203.00</td>\n",
       "    </tr>\n",
       "    <tr>\n",
       "      <th>mean</th>\n",
       "      <td>10.43</td>\n",
       "    </tr>\n",
       "    <tr>\n",
       "      <th>std</th>\n",
       "      <td>14.37</td>\n",
       "    </tr>\n",
       "    <tr>\n",
       "      <th>min</th>\n",
       "      <td>0.00</td>\n",
       "    </tr>\n",
       "    <tr>\n",
       "      <th>25%</th>\n",
       "      <td>3.25</td>\n",
       "    </tr>\n",
       "    <tr>\n",
       "      <th>50%</th>\n",
       "      <td>6.50</td>\n",
       "    </tr>\n",
       "    <tr>\n",
       "      <th>75%</th>\n",
       "      <td>14.50</td>\n",
       "    </tr>\n",
       "    <tr>\n",
       "      <th>max</th>\n",
       "      <td>525.00</td>\n",
       "    </tr>\n",
       "  </tbody>\n",
       "</table>\n",
       "</div>"
      ],
      "text/plain": [
       "         Price\n",
       "count  8203.00\n",
       "mean     10.43\n",
       "std      14.37\n",
       "min       0.00\n",
       "25%       3.25\n",
       "50%       6.50\n",
       "75%      14.50\n",
       "max     525.00"
      ]
     },
     "execution_count": 16,
     "metadata": {},
     "output_type": "execute_result"
    }
   ],
   "source": [
    "nr_df.describe().round(2)"
   ]
  },
  {
   "cell_type": "markdown",
   "id": "5eea610a",
   "metadata": {},
   "source": [
    "#### Checking datatype"
   ]
  },
  {
   "cell_type": "code",
   "execution_count": 17,
   "id": "2e9b45cb",
   "metadata": {},
   "outputs": [
    {
     "name": "stdout",
     "output_type": "stream",
     "text": [
      "<class 'pandas.core.frame.DataFrame'>\n",
      "RangeIndex: 8203 entries, 0 to 8202\n",
      "Data columns (total 6 columns):\n",
      " #   Column        Non-Null Count  Dtype  \n",
      "---  ------        --------------  -----  \n",
      " 0   appid         8203 non-null   object \n",
      " 1   title         8203 non-null   object \n",
      " 2   url           8203 non-null   object \n",
      " 3   Price         8203 non-null   float64\n",
      " 4   Release date  8203 non-null   object \n",
      " 5   Reviews       8203 non-null   object \n",
      "dtypes: float64(1), object(5)\n",
      "memory usage: 384.6+ KB\n"
     ]
    }
   ],
   "source": [
    "nr_df.info()"
   ]
  },
  {
   "cell_type": "markdown",
   "id": "bff81ce4",
   "metadata": {},
   "source": [
    "### Converting datatype\n",
    "\n",
    "Reviews datatype needed to be converted from object to string in order for further analysis."
   ]
  },
  {
   "cell_type": "code",
   "execution_count": 18,
   "id": "10e2e0b2",
   "metadata": {},
   "outputs": [
    {
     "name": "stdout",
     "output_type": "stream",
     "text": [
      "appid            object\n",
      "title            object\n",
      "url              object\n",
      "Price           float64\n",
      "Release date     object\n",
      "Reviews          string\n",
      "dtype: object\n"
     ]
    }
   ],
   "source": [
    "nr_df = nr_df.astype({'Reviews':'string'})\n",
    "print(nr_df.dtypes)"
   ]
  },
  {
   "cell_type": "markdown",
   "id": "5324fa6c",
   "metadata": {},
   "source": [
    "I replace the following ratings into numbers to be able to plot it onto a graph."
   ]
  },
  {
   "cell_type": "code",
   "execution_count": 19,
   "id": "649c3ea2",
   "metadata": {},
   "outputs": [
    {
     "name": "stdout",
     "output_type": "stream",
     "text": [
      "0       0\n",
      "1       0\n",
      "2       0\n",
      "3       0\n",
      "4       0\n",
      "       ..\n",
      "8198    8\n",
      "8199    0\n",
      "8200    0\n",
      "8201    9\n",
      "8202    0\n",
      "Name: 0, Length: 8203, dtype: string\n"
     ]
    }
   ],
   "source": [
    "ratings = nr_df['Reviews'].str.split('-', expand = True)\n",
    "b = 0\n",
    "for i in ratings[0]:\n",
    "    temp = i.strip().lower()\n",
    "    if temp == 'overwhelmingly positive':\n",
    "        ratings[0][b] = '9'\n",
    "    elif temp == 'very positive':\n",
    "        ratings[0][b] = '8'\n",
    "    elif temp == 'mostly positive':\n",
    "        ratings[0][b] = '7'\n",
    "    elif temp == 'positive':\n",
    "        ratings[0][b] = '6'\n",
    "    elif temp == 'mixed':\n",
    "        ratings[0][b] = '5'\n",
    "    elif temp == 'negative':\n",
    "        ratings[0][b] = '4'\n",
    "    elif temp == 'mostly negative':\n",
    "        ratings[0][b] = '3'\n",
    "    elif temp == 'very negative':\n",
    "        ratings[0][b] = '2'\n",
    "    elif temp == 'overwhelmingly negative':\n",
    "        ratings[0][b] = '1'\n",
    "    else:\n",
    "        ratings[0][b] = '0'\n",
    "    b += 1\n",
    "print(ratings[0])"
   ]
  },
  {
   "cell_type": "code",
   "execution_count": 20,
   "id": "694db72f",
   "metadata": {},
   "outputs": [
    {
     "data": {
      "text/plain": [
       "Text(0, 0.5, 'Games')"
      ]
     },
     "execution_count": 20,
     "metadata": {},
     "output_type": "execute_result"
    },
    {
     "data": {
      "image/png": "[encoded data removed]",
      "text/plain": [
       "<Figure size 720x720 with 1 Axes>"
      ]
     },
     "metadata": {},
     "output_type": "display_data"
    }
   ],
   "source": [
    "sns.set(font_scale=2)\n",
    "ratings = ratings.astype({0:'int'})\n",
    "ratings[0].plot(kind='hist', bins = 20, figsize=(10, 10))\n",
    "plt.xlabel(\"Ratings\", labelpad=14, fontsize=18)\n",
    "plt.ylabel(\"Games\", labelpad=14, fontsize=18)"
   ]
  },
  {
   "cell_type": "markdown",
   "id": "cae6f954",
   "metadata": {},
   "source": [
    "Here we can see that there is a vast majority of games with not enough ratings available to determine if the game is good or bad. The highest available rating is 6, being positive while the next is 8 which is very positive. Thus, we can infer that the vast majority of the games recently released does not receive the players attention or the players did not deem it worthy to review the game. While at the same time, the games that players reviewed are mostly positive."
   ]
  },
  {
   "cell_type": "code",
   "execution_count": 21,
   "id": "64bd2750",
   "metadata": {},
   "outputs": [
    {
     "data": {
      "text/plain": [
       "Text(0, 0.5, 'Games')"
      ]
     },
     "execution_count": 21,
     "metadata": {},
     "output_type": "execute_result"
    },
    {
     "data": {
      "image/png": "[encoded data removed]",
      "text/plain": [
       "<Figure size 720x360 with 1 Axes>"
      ]
     },
     "metadata": {},
     "output_type": "display_data"
    }
   ],
   "source": [
    "sns.set(font_scale=1.4)\n",
    "nr_df['Price'].plot(kind='hist', bins = 100, figsize=(10, 5))\n",
    "plt.xlabel(\"Price\", labelpad=14, fontsize=15)\n",
    "plt.ylabel(\"Games\", labelpad=14, fontsize=15)"
   ]
  },
  {
   "cell_type": "markdown",
   "id": "3715f9a1",
   "metadata": {},
   "source": [
    "In this plot, we can see that the price for the majority of the released games in the past year has been between 0 - 50 dollars. With an exception of a couple of games being sold for more than 200 dollars. "
   ]
  },
  {
   "cell_type": "code",
   "execution_count": 22,
   "id": "54327575",
   "metadata": {},
   "outputs": [
    {
     "data": {
      "image/png": "[encoded data removed]",
      "text/plain": [
       "<Figure size 1440x504 with 3 Axes>"
      ]
     },
     "metadata": {},
     "output_type": "display_data"
    }
   ],
   "source": [
    "fig, axes = plt.subplots(1, 3, figsize = (20,7))\n",
    "ax1, ax2, ax3 = fig.axes\n",
    "\n",
    "ax1.hist(nr_df['Price'], bins = 10, range = (0,100))\n",
    "ax1.set_title('Price')\n",
    "\n",
    "ax2.hist(ratings[0], bins = 10, range = (0,10))\n",
    "ax2.set_title('Ratings')\n",
    "\n",
    "ax3.hist(nr_df['Price'], bins = 100, range = (0,100), histtype = 'step', label = 'Price')\n",
    "ax3.hist(ratings[0], bins = 10, range = (0,10), histtype = 'step', label = 'Ratings')\n",
    "ax3.set_title('Two Normalized Distributions')\n",
    "plt.legend()\n",
    "\n",
    "plt.show()"
   ]
  },
  {
   "cell_type": "markdown",
   "id": "b82f387a",
   "metadata": {},
   "source": [
    "Based on the plots, we can see that the some similarities between prices and ratings. With almost 5000 games being less than 10 dollars. However, we also have a huge number of ratings that are at 0 meaning that those games do not have enough reviews or have none at all. From this, we can infer that despite games releasing at very low prices or being free, it does not mean that users will purchase or play those games. Many of such games will eventually be overshadowed by better reviewed games and will be forgotten.\n",
    "\n",
    "Meanwhile, we can also see that the majority of the games that scored a 6 which is a positive review usually are between 10 to 20 dollars. This meant that players that bought the games will usually write psoitively on those games. It can also be inferred that with the low pricing of said games, the players can easily get access to them and will view them positively."
   ]
  },
  {
   "cell_type": "markdown",
   "id": "dc502200",
   "metadata": {},
   "source": [
    "## User Reviews\n",
    "\n",
    "To get a better understanding of what users like about those games, I decided to scrape for user reviews for each game available using the existing app ids I collected in the appid_games.pkl.gz file."
   ]
  },
  {
   "cell_type": "markdown",
   "id": "e717b4c5",
   "metadata": {},
   "source": [
    "### Getting App ids\n",
    "\n",
    "As each Steam game has a unique app id, we can use them to identify each game and get their reviews from it."
   ]
  },
  {
   "cell_type": "code",
   "execution_count": 23,
   "id": "c685d25d",
   "metadata": {},
   "outputs": [
    {
     "data": {
      "text/html": [
       "<div>\n",
       "<style scoped>\n",
       "    .dataframe tbody tr th:only-of-type {\n",
       "        vertical-align: middle;\n",
       "    }\n",
       "\n",
       "    .dataframe tbody tr th {\n",
       "        vertical-align: top;\n",
       "    }\n",
       "\n",
       "    .dataframe thead th {\n",
       "        text-align: right;\n",
       "    }\n",
       "</style>\n",
       "<table border=\"1\" class=\"dataframe\">\n",
       "  <thead>\n",
       "    <tr style=\"text-align: right;\">\n",
       "      <th></th>\n",
       "      <th>appid</th>\n",
       "      <th>title</th>\n",
       "      <th>url</th>\n",
       "    </tr>\n",
       "  </thead>\n",
       "  <tbody>\n",
       "    <tr>\n",
       "      <th>0</th>\n",
       "      <td>2236350</td>\n",
       "      <td>Medieval Defence</td>\n",
       "      <td>https://store.steampowered.com/app/2236350/Med...</td>\n",
       "    </tr>\n",
       "    <tr>\n",
       "      <th>1</th>\n",
       "      <td>2236320</td>\n",
       "      <td>Ice Battle</td>\n",
       "      <td>https://store.steampowered.com/app/2236320/Ice...</td>\n",
       "    </tr>\n",
       "    <tr>\n",
       "      <th>2</th>\n",
       "      <td>2094390</td>\n",
       "      <td>HELLPIT</td>\n",
       "      <td>https://store.steampowered.com/app/2094390/HEL...</td>\n",
       "    </tr>\n",
       "    <tr>\n",
       "      <th>3</th>\n",
       "      <td>1970610</td>\n",
       "      <td>Duterra</td>\n",
       "      <td>https://store.steampowered.com/app/1970610/Dut...</td>\n",
       "    </tr>\n",
       "    <tr>\n",
       "      <th>4</th>\n",
       "      <td>2218780</td>\n",
       "      <td>The Epic FishHead Adventure</td>\n",
       "      <td>https://store.steampowered.com/app/2218780/The...</td>\n",
       "    </tr>\n",
       "    <tr>\n",
       "      <th>...</th>\n",
       "      <td>...</td>\n",
       "      <td>...</td>\n",
       "      <td>...</td>\n",
       "    </tr>\n",
       "    <tr>\n",
       "      <th>9545</th>\n",
       "      <td>1827730</td>\n",
       "      <td>Adarin Farm</td>\n",
       "      <td>https://store.steampowered.com/app/1827730/Ada...</td>\n",
       "    </tr>\n",
       "    <tr>\n",
       "      <th>9546</th>\n",
       "      <td>1864210</td>\n",
       "      <td>Zombie War</td>\n",
       "      <td>https://store.steampowered.com/app/1864210/Zom...</td>\n",
       "    </tr>\n",
       "    <tr>\n",
       "      <th>9547</th>\n",
       "      <td>1451940</td>\n",
       "      <td>NEEDY STREAMER OVERLOAD</td>\n",
       "      <td>https://store.steampowered.com/app/1451940/NEE...</td>\n",
       "    </tr>\n",
       "    <tr>\n",
       "      <th>9548</th>\n",
       "      <td>1408930</td>\n",
       "      <td>Greedy Corgi</td>\n",
       "      <td>https://store.steampowered.com/app/1408930/Gre...</td>\n",
       "    </tr>\n",
       "    <tr>\n",
       "      <th>9549</th>\n",
       "      <td>1863170</td>\n",
       "      <td>From Dusk To Dawn</td>\n",
       "      <td>https://store.steampowered.com/app/1863170/Fro...</td>\n",
       "    </tr>\n",
       "  </tbody>\n",
       "</table>\n",
       "<p>9550 rows × 3 columns</p>\n",
       "</div>"
      ],
      "text/plain": [
       "        appid                        title  \\\n",
       "0     2236350             Medieval Defence   \n",
       "1     2236320                   Ice Battle   \n",
       "2     2094390                      HELLPIT   \n",
       "3     1970610                      Duterra   \n",
       "4     2218780  The Epic FishHead Adventure   \n",
       "...       ...                          ...   \n",
       "9545  1827730                  Adarin Farm   \n",
       "9546  1864210                   Zombie War   \n",
       "9547  1451940      NEEDY STREAMER OVERLOAD   \n",
       "9548  1408930                 Greedy Corgi   \n",
       "9549  1863170            From Dusk To Dawn   \n",
       "\n",
       "                                                    url  \n",
       "0     https://store.steampowered.com/app/2236350/Med...  \n",
       "1     https://store.steampowered.com/app/2236320/Ice...  \n",
       "2     https://store.steampowered.com/app/2094390/HEL...  \n",
       "3     https://store.steampowered.com/app/1970610/Dut...  \n",
       "4     https://store.steampowered.com/app/2218780/The...  \n",
       "...                                                 ...  \n",
       "9545  https://store.steampowered.com/app/1827730/Ada...  \n",
       "9546  https://store.steampowered.com/app/1864210/Zom...  \n",
       "9547  https://store.steampowered.com/app/1451940/NEE...  \n",
       "9548  https://store.steampowered.com/app/1408930/Gre...  \n",
       "9549  https://store.steampowered.com/app/1863170/Fro...  \n",
       "\n",
       "[9550 rows x 3 columns]"
      ]
     },
     "execution_count": 23,
     "metadata": {},
     "output_type": "execute_result"
    }
   ],
   "source": [
    "app_ids_df = pd.read_pickle('Data/appid_games.pkl.gz')\n",
    "app_ids_df"
   ]
  },
  {
   "cell_type": "markdown",
   "id": "d3f50299",
   "metadata": {},
   "source": [
    "### Separated appid column using numpy function."
   ]
  },
  {
   "cell_type": "code",
   "execution_count": 24,
   "id": "ad0365cf",
   "metadata": {},
   "outputs": [
    {
     "data": {
      "text/plain": [
       "(array(['2236350', '2236320', '2094390', ..., '1451940', '1408930',\n",
       "        '1863170'], dtype=object),\n",
       " 9550)"
      ]
     },
     "execution_count": 24,
     "metadata": {},
     "output_type": "execute_result"
    }
   ],
   "source": [
    "app_ids = app_ids_df['appid'].to_numpy()\n",
    "app_ids, len(app_ids)"
   ]
  },
  {
   "cell_type": "markdown",
   "id": "d22e7993",
   "metadata": {},
   "source": [
    "### Getting User Reviews\n",
    "\n",
    "To get the user reviews for each individual game, I created a function to enable the success of getting the reviews and then enumerated through all the app ids found in the dataframe. I also decided to retrieve at least 100 reviews for each game if available to have a better dataset to sort through."
   ]
  },
  {
   "cell_type": "code",
   "execution_count": 25,
   "id": "df3df786",
   "metadata": {},
   "outputs": [],
   "source": [
    "def user_reviews(appid, params):\n",
    "    url = 'https://store.steampowered.com/appreviews/'\n",
    "    response = requests.get(url=url+str(appid), params=params, headers={'User-Agent': 'Mozilla/5.0'})\n",
    "    return response.json()"
   ]
  },
  {
   "cell_type": "code",
   "execution_count": 26,
   "id": "25b5e7af",
   "metadata": {},
   "outputs": [],
   "source": [
    "u_reviews = []\n",
    "cursor = '*'\n",
    "params = {\n",
    "    'json' : 1,\n",
    "    'filter' : 'all', #sort by: recent, updated, all (helpfullness)\n",
    "    'language' : 'english', #language\n",
    "    'day_range' : 9223372036854775807, #shows reveiws from all time\n",
    "    'review_type' : 'all', #all, positive, negative\n",
    "    'purchase_type' : 'all', #all, non_steam_purchase, steam\n",
    "    'num_per_page' : 100, #number of reviews to get\n",
    "    'cursor' : '*'.encode()\n",
    "}"
   ]
  },
  {
   "cell_type": "code",
   "execution_count": 27,
   "id": "0925d91f",
   "metadata": {},
   "outputs": [
    {
     "name": "stdout",
     "output_type": "stream",
     "text": [
      "500 of 9550: 6587 reviews\n",
      "1000 of 9550: 14377 reviews\n",
      "1500 of 9550: 21844 reviews\n",
      "2000 of 9550: 29937 reviews\n",
      "2500 of 9550: 40037 reviews\n",
      "3000 of 9550: 49343 reviews\n",
      "3500 of 9550: 61067 reviews\n",
      "4000 of 9550: 71040 reviews\n",
      "4500 of 9550: 80533 reviews\n",
      "5000 of 9550: 91051 reviews\n",
      "5500 of 9550: 100418 reviews\n",
      "6000 of 9550: 111688 reviews\n",
      "6500 of 9550: 122165 reviews\n",
      "7000 of 9550: 133254 reviews\n",
      "7500 of 9550: 145489 reviews\n",
      "8000 of 9550: 157015 reviews\n",
      "8500 of 9550: 167082 reviews\n",
      "9000 of 9550: 176242 reviews\n",
      "9500 of 9550: 185840 reviews\n"
     ]
    }
   ],
   "source": [
    "for i, app_id in enumerate(app_ids):\n",
    "    u_reviews += user_reviews(app_id, params)['reviews']\n",
    "    if (i+1)%500 == 0:\n",
    "        print(f'{i+1} of {len(app_ids)}: {len(u_reviews)} reviews')"
   ]
  },
  {
   "cell_type": "markdown",
   "id": "bca96cbc",
   "metadata": {},
   "source": [
    "### Getting review data\n",
    "\n",
    "Printed the first review to find the data I needed to store."
   ]
  },
  {
   "cell_type": "code",
   "execution_count": 28,
   "id": "040468a1",
   "metadata": {},
   "outputs": [
    {
     "name": "stdout",
     "output_type": "stream",
     "text": [
      "{'recommendationid': '129649634', 'author': {'steamid': '76561198271724770', 'num_games_owned': 106, 'num_reviews': 35, 'playtime_forever': 335, 'playtime_last_two_weeks': 335, 'playtime_at_review': 182, 'last_played': 1672660698}, 'language': 'english', 'review': 'Before this came out I\\'d already played the demo countless times, so I was not surprised at all by how good the finished product was. Seriously, this is one damn good game, totally recommend it. I\\'ve yet to explore other paths, but the one ending I\\'ve got was satisfying, albeit not exactly what I was looking for. Really liked the epilogue, it always feels nice to remain a bit in the world even after the story is done, just to check on the characters and all that. Only complain I have is that towards the ending the main character seemed to care far too much about other when considering the choices I picked. I didn\\'t pick the outright \"mean\" options but I also don\\'t think I picked to be \"loving\" or \"caring\". I don\\'t know, I guess I kinda hope I could play a more neutral entity, with no real love for the people around them, but otherwise not outright scornful. Well, maybe it was just me. I must highlight that nevertheless I still loved the game, and still would encourage anyone to give it a try.', 'timestamp_created': 1672362090, 'timestamp_updated': 1672362090, 'voted_up': True, 'votes_up': 23, 'votes_funny': 0, 'weighted_vote_score': '0.702093601226806641', 'comment_count': 0, 'steam_purchase': True, 'received_for_free': False, 'written_during_early_access': False, 'hidden_in_steam_china': True, 'steam_china_location': ''}\n"
     ]
    }
   ],
   "source": [
    "print(u_reviews[0])"
   ]
  },
  {
   "cell_type": "code",
   "execution_count": 29,
   "id": "697a952e",
   "metadata": {
    "scrolled": true
   },
   "outputs": [
    {
     "data": {
      "text/html": [
       "<div>\n",
       "<style scoped>\n",
       "    .dataframe tbody tr th:only-of-type {\n",
       "        vertical-align: middle;\n",
       "    }\n",
       "\n",
       "    .dataframe tbody tr th {\n",
       "        vertical-align: top;\n",
       "    }\n",
       "\n",
       "    .dataframe thead th {\n",
       "        text-align: right;\n",
       "    }\n",
       "</style>\n",
       "<table border=\"1\" class=\"dataframe\">\n",
       "  <thead>\n",
       "    <tr style=\"text-align: right;\">\n",
       "      <th></th>\n",
       "      <th>review</th>\n",
       "      <th>voted_up</th>\n",
       "    </tr>\n",
       "  </thead>\n",
       "  <tbody>\n",
       "    <tr>\n",
       "      <th>0</th>\n",
       "      <td>Before this came out I'd already played the de...</td>\n",
       "      <td>True</td>\n",
       "    </tr>\n",
       "    <tr>\n",
       "      <th>1</th>\n",
       "      <td>The Passenger is a story of self discovery, of...</td>\n",
       "      <td>True</td>\n",
       "    </tr>\n",
       "    <tr>\n",
       "      <th>2</th>\n",
       "      <td>JONNY I WILL ALWAYS BE YOUR BIGGEST FAN. THATS...</td>\n",
       "      <td>True</td>\n",
       "    </tr>\n",
       "    <tr>\n",
       "      <th>3</th>\n",
       "      <td>Been hooked on this story ever since I read th...</td>\n",
       "      <td>True</td>\n",
       "    </tr>\n",
       "    <tr>\n",
       "      <th>4</th>\n",
       "      <td>I've been following this game's development fo...</td>\n",
       "      <td>True</td>\n",
       "    </tr>\n",
       "    <tr>\n",
       "      <th>...</th>\n",
       "      <td>...</td>\n",
       "      <td>...</td>\n",
       "    </tr>\n",
       "    <tr>\n",
       "      <th>186606</th>\n",
       "      <td>I CAN FIX HER.I CAN FIX HER.I CAN FIX HER.I CA...</td>\n",
       "      <td>True</td>\n",
       "    </tr>\n",
       "    <tr>\n",
       "      <th>186607</th>\n",
       "      <td>I love mental health</td>\n",
       "      <td>True</td>\n",
       "    </tr>\n",
       "    <tr>\n",
       "      <th>186608</th>\n",
       "      <td>I can relate to her... does that mean I need t...</td>\n",
       "      <td>True</td>\n",
       "    </tr>\n",
       "    <tr>\n",
       "      <th>186609</th>\n",
       "      <td>[quote]For more puzzle game reviews, news and ...</td>\n",
       "      <td>True</td>\n",
       "    </tr>\n",
       "    <tr>\n",
       "      <th>186610</th>\n",
       "      <td>If you are expecting more than the slot machin...</td>\n",
       "      <td>False</td>\n",
       "    </tr>\n",
       "  </tbody>\n",
       "</table>\n",
       "<p>186611 rows × 2 columns</p>\n",
       "</div>"
      ],
      "text/plain": [
       "                                                   review  voted_up\n",
       "0       Before this came out I'd already played the de...      True\n",
       "1       The Passenger is a story of self discovery, of...      True\n",
       "2       JONNY I WILL ALWAYS BE YOUR BIGGEST FAN. THATS...      True\n",
       "3       Been hooked on this story ever since I read th...      True\n",
       "4       I've been following this game's development fo...      True\n",
       "...                                                   ...       ...\n",
       "186606  I CAN FIX HER.I CAN FIX HER.I CAN FIX HER.I CA...      True\n",
       "186607                               I love mental health      True\n",
       "186608  I can relate to her... does that mean I need t...      True\n",
       "186609  [quote]For more puzzle game reviews, news and ...      True\n",
       "186610  If you are expecting more than the slot machin...     False\n",
       "\n",
       "[186611 rows x 2 columns]"
      ]
     },
     "execution_count": 29,
     "metadata": {},
     "output_type": "execute_result"
    }
   ],
   "source": [
    "user_reviews_df = pd.DataFrame(u_reviews)[['review', 'voted_up']]\n",
    "user_reviews_df"
   ]
  },
  {
   "cell_type": "code",
   "execution_count": 30,
   "id": "1102acfa",
   "metadata": {},
   "outputs": [
    {
     "data": {
      "text/plain": [
       "True     0.806357\n",
       "False    0.193643\n",
       "Name: voted_up, dtype: float64"
      ]
     },
     "execution_count": 30,
     "metadata": {},
     "output_type": "execute_result"
    }
   ],
   "source": [
    "user_reviews_df.voted_up.value_counts(normalize=True)"
   ]
  },
  {
   "cell_type": "code",
   "execution_count": 31,
   "id": "cfa1c435",
   "metadata": {},
   "outputs": [
    {
     "data": {
      "text/html": [
       "<div>\n",
       "<style scoped>\n",
       "    .dataframe tbody tr th:only-of-type {\n",
       "        vertical-align: middle;\n",
       "    }\n",
       "\n",
       "    .dataframe tbody tr th {\n",
       "        vertical-align: top;\n",
       "    }\n",
       "\n",
       "    .dataframe thead th {\n",
       "        text-align: right;\n",
       "    }\n",
       "</style>\n",
       "<table border=\"1\" class=\"dataframe\">\n",
       "  <thead>\n",
       "    <tr style=\"text-align: right;\">\n",
       "      <th></th>\n",
       "      <th>review</th>\n",
       "      <th>voted_up</th>\n",
       "    </tr>\n",
       "  </thead>\n",
       "  <tbody>\n",
       "    <tr>\n",
       "      <th>count</th>\n",
       "      <td>186611</td>\n",
       "      <td>186611</td>\n",
       "    </tr>\n",
       "    <tr>\n",
       "      <th>unique</th>\n",
       "      <td>181279</td>\n",
       "      <td>2</td>\n",
       "    </tr>\n",
       "    <tr>\n",
       "      <th>top</th>\n",
       "      <td>good</td>\n",
       "      <td>True</td>\n",
       "    </tr>\n",
       "    <tr>\n",
       "      <th>freq</th>\n",
       "      <td>219</td>\n",
       "      <td>150475</td>\n",
       "    </tr>\n",
       "  </tbody>\n",
       "</table>\n",
       "</div>"
      ],
      "text/plain": [
       "        review voted_up\n",
       "count   186611   186611\n",
       "unique  181279        2\n",
       "top       good     True\n",
       "freq       219   150475"
      ]
     },
     "execution_count": 31,
     "metadata": {},
     "output_type": "execute_result"
    }
   ],
   "source": [
    "user_reviews_df.describe()"
   ]
  },
  {
   "cell_type": "code",
   "execution_count": 32,
   "id": "cf394366",
   "metadata": {},
   "outputs": [],
   "source": [
    "user_reviews_df.to_pickle('Data/user_reviews_raw.pkl.gz')"
   ]
  },
  {
   "cell_type": "markdown",
   "id": "a3e0a83d",
   "metadata": {},
   "source": [
    "## Stopwords\n",
    "\n",
    "The stopwords list is created to remove punctuations as well as basic english words. To help gather a more accurate data, I added in some custom words I found to be filtered out too."
   ]
  },
  {
   "cell_type": "code",
   "execution_count": 33,
   "id": "55631b7e",
   "metadata": {},
   "outputs": [
    {
     "name": "stdout",
     "output_type": "stream",
     "text": [
      "['!', '\"', '#', '$', '%', '&', \"'\", '(', ')', '*', '+', ',', '-', '.', '/', ':', ';', '<', '=', '>', '?', '@', '[', '\\\\', ']', '^', '_', '`', '{', '|', '}', '~', '`', '’', '…', '\\n', 'i', 'me', 'my', 'myself', 'we', 'our', 'ours', 'ourselves', 'you', \"you're\", \"you've\", \"you'll\", \"you'd\", 'your', 'yours', 'yourself', 'yourselves', 'he', 'him', 'his', 'himself', 'she', \"she's\", 'her', 'hers', 'herself', 'it', \"it's\", 'its', 'itself', 'they', 'them', 'their', 'theirs', 'themselves', 'what', 'which', 'who', 'whom', 'this', 'that', \"that'll\", 'these', 'those', 'am', 'is', 'are', 'was', 'were', 'be', 'been', 'being', 'have', 'has', 'had', 'having', 'do', 'does', 'did', 'doing', 'a', 'an', 'the', 'and', 'but', 'if', 'or', 'because', 'as', 'until', 'while', 'of', 'at', 'by', 'for', 'with', 'about', 'against', 'between', 'into', 'through', 'during', 'before', 'after', 'above', 'below', 'to', 'from', 'up', 'down', 'in', 'out', 'on', 'off', 'over', 'under', 'again', 'further', 'then', 'once', 'here', 'there', 'when', 'where', 'why', 'how', 'all', 'any', 'both', 'each', 'few', 'more', 'most', 'other', 'some', 'such', 'no', 'nor', 'not', 'only', 'own', 'same', 'so', 'than', 'too', 'very', 's', 't', 'can', 'will', 'just', 'don', \"don't\", 'should', \"should've\", 'now', 'd', 'll', 'm', 'o', 're', 've', 'y', 'ain', 'aren', \"aren't\", 'couldn', \"couldn't\", 'didn', \"didn't\", 'doesn', \"doesn't\", 'hadn', \"hadn't\", 'hasn', \"hasn't\", 'haven', \"haven't\", 'isn', \"isn't\", 'ma', 'mightn', \"mightn't\", 'mustn', \"mustn't\", 'needn', \"needn't\", 'shan', \"shan't\", 'shouldn', \"shouldn't\", 'wasn', \"wasn't\", 'weren', \"weren't\", 'won', \"won't\", 'wouldn', \"wouldn't\", 'game', 'games', 'also', 'really', 'would', 'like', 'get', 'still', 'way', 'could', 'b']\n"
     ]
    }
   ],
   "source": [
    "stopwords_list = list(punctuation) + ['`', '’', '…', '\\n'] + stopwords.words('english') + ['game', 'games', 'also', 'really', 'would', 'like', 'get', 'still', 'way', 'could', 'b']\n",
    "print(stopwords_list)"
   ]
  },
  {
   "cell_type": "markdown",
   "id": "9a0f3bf4",
   "metadata": {},
   "source": [
    "## Tokenizing words"
   ]
  },
  {
   "cell_type": "code",
   "execution_count": 34,
   "id": "8e1820c8",
   "metadata": {},
   "outputs": [],
   "source": [
    "def tokenize(review):\n",
    "    if not review or pd.isnull(review):\n",
    "        return []\n",
    "    tokenizer = RegexpTokenizer(r'[a-zA-Z0-9]+') # tokenize words with only numbers and latin characters\n",
    "    return tokenizer.tokenize(review.lower())"
   ]
  },
  {
   "cell_type": "code",
   "execution_count": 35,
   "id": "958245aa",
   "metadata": {},
   "outputs": [],
   "source": [
    "raw_df = pd.read_pickle('Data/user_reviews_raw.pkl.gz')\n",
    "\n",
    "raw_df['tokens'] = raw_df['review'].apply(tokenize)\n",
    "\n",
    "vote_up = raw_df['voted_up'].to_numpy()\n",
    "pd.DataFrame(vote_up, columns=['voted_up']).to_pickle('Data/vote_up.pkl.gz', index=False)\n",
    "\n",
    "token_df = raw_df['tokens'].to_numpy()\n",
    "\n",
    "token_stopword = []\n",
    "for review in token_df:\n",
    "    token_stopword.append([word for word in review if word not in stopwords_list])\n",
    "pd.DataFrame([' '.join(review) for review in token_stopword], columns=['review']).to_pickle('Data/token_stopword.pkl.gz', index=False)"
   ]
  },
  {
   "cell_type": "markdown",
   "id": "6899d042",
   "metadata": {},
   "source": [
    "## Combining both pickle files"
   ]
  },
  {
   "cell_type": "code",
   "execution_count": 36,
   "id": "dbed5ef0",
   "metadata": {
    "scrolled": true
   },
   "outputs": [
    {
     "data": {
      "text/html": [
       "<div>\n",
       "<style scoped>\n",
       "    .dataframe tbody tr th:only-of-type {\n",
       "        vertical-align: middle;\n",
       "    }\n",
       "\n",
       "    .dataframe tbody tr th {\n",
       "        vertical-align: top;\n",
       "    }\n",
       "\n",
       "    .dataframe thead th {\n",
       "        text-align: right;\n",
       "    }\n",
       "</style>\n",
       "<table border=\"1\" class=\"dataframe\">\n",
       "  <thead>\n",
       "    <tr style=\"text-align: right;\">\n",
       "      <th></th>\n",
       "      <th>review</th>\n",
       "      <th>voted_up</th>\n",
       "    </tr>\n",
       "  </thead>\n",
       "  <tbody>\n",
       "    <tr>\n",
       "      <th>0</th>\n",
       "      <td>came already played demo countless times surpr...</td>\n",
       "      <td>True</td>\n",
       "    </tr>\n",
       "    <tr>\n",
       "      <th>1</th>\n",
       "      <td>passenger story self discovery want become fig...</td>\n",
       "      <td>True</td>\n",
       "    </tr>\n",
       "    <tr>\n",
       "      <th>2</th>\n",
       "      <td>jonny always biggest fan thats wife</td>\n",
       "      <td>True</td>\n",
       "    </tr>\n",
       "    <tr>\n",
       "      <th>3</th>\n",
       "      <td>hooked story ever since read demo years ago ca...</td>\n",
       "      <td>True</td>\n",
       "    </tr>\n",
       "    <tr>\n",
       "      <th>4</th>\n",
       "      <td>following development year unbelievably please...</td>\n",
       "      <td>True</td>\n",
       "    </tr>\n",
       "    <tr>\n",
       "      <th>...</th>\n",
       "      <td>...</td>\n",
       "      <td>...</td>\n",
       "    </tr>\n",
       "    <tr>\n",
       "      <th>186606</th>\n",
       "      <td>fix fix fix fix fix fix fix fix fix fix fix fi...</td>\n",
       "      <td>True</td>\n",
       "    </tr>\n",
       "    <tr>\n",
       "      <th>186607</th>\n",
       "      <td>love mental health</td>\n",
       "      <td>True</td>\n",
       "    </tr>\n",
       "    <tr>\n",
       "      <th>186608</th>\n",
       "      <td>relate mean need therapy lol</td>\n",
       "      <td>True</td>\n",
       "    </tr>\n",
       "    <tr>\n",
       "      <th>186609</th>\n",
       "      <td>quote puzzle reviews news everything puzzle re...</td>\n",
       "      <td>True</td>\n",
       "    </tr>\n",
       "    <tr>\n",
       "      <th>186610</th>\n",
       "      <td>expecting slot machine preview nothing else se...</td>\n",
       "      <td>False</td>\n",
       "    </tr>\n",
       "  </tbody>\n",
       "</table>\n",
       "<p>186611 rows × 2 columns</p>\n",
       "</div>"
      ],
      "text/plain": [
       "                                                   review  voted_up\n",
       "0       came already played demo countless times surpr...      True\n",
       "1       passenger story self discovery want become fig...      True\n",
       "2                     jonny always biggest fan thats wife      True\n",
       "3       hooked story ever since read demo years ago ca...      True\n",
       "4       following development year unbelievably please...      True\n",
       "...                                                   ...       ...\n",
       "186606  fix fix fix fix fix fix fix fix fix fix fix fi...      True\n",
       "186607                                 love mental health      True\n",
       "186608                       relate mean need therapy lol      True\n",
       "186609  quote puzzle reviews news everything puzzle re...      True\n",
       "186610  expecting slot machine preview nothing else se...     False\n",
       "\n",
       "[186611 rows x 2 columns]"
      ]
     },
     "execution_count": 36,
     "metadata": {},
     "output_type": "execute_result"
    }
   ],
   "source": [
    "token_data = pd.read_pickle('Data/token_stopword.pkl.gz')\n",
    "vote_up_data = pd.read_pickle('Data/vote_up.pkl.gz')\n",
    "all_data = pd.concat([token_data, vote_up_data], axis=1)\n",
    "all_data"
   ]
  },
  {
   "cell_type": "markdown",
   "id": "4dae8001",
   "metadata": {},
   "source": [
    "## Cleaning empty reviews"
   ]
  },
  {
   "cell_type": "code",
   "execution_count": 37,
   "id": "62d52a39",
   "metadata": {},
   "outputs": [],
   "source": [
    "all_data = all_data.dropna(subset=['review'])\n",
    "all_data = all_data.fillna(' ')"
   ]
  },
  {
   "cell_type": "markdown",
   "id": "0d8521f3",
   "metadata": {},
   "source": [
    "## Finding unique vocabulary"
   ]
  },
  {
   "cell_type": "code",
   "execution_count": 38,
   "id": "633b6a97",
   "metadata": {},
   "outputs": [],
   "source": [
    "total_vocabulary = []\n",
    "for review in all_data['review'].tolist():\n",
    "    total_vocabulary += review.split()"
   ]
  },
  {
   "cell_type": "code",
   "execution_count": 39,
   "id": "f839d2ae",
   "metadata": {},
   "outputs": [
    {
     "name": "stdout",
     "output_type": "stream",
     "text": [
      "There are 128446 unique tokens in the dataset.\n"
     ]
    }
   ],
   "source": [
    "print('There are {} unique tokens in the dataset.'.format(len(set(total_vocabulary))))"
   ]
  },
  {
   "cell_type": "markdown",
   "id": "e0e479f0",
   "metadata": {},
   "source": [
    "## Top 20 common words"
   ]
  },
  {
   "cell_type": "code",
   "execution_count": 40,
   "id": "d85b3be5",
   "metadata": {},
   "outputs": [],
   "source": [
    "freqdist = FreqDist(total_vocabulary)\n",
    "top_20 = freqdist.most_common(20)\n",
    "\n",
    "words, values = list(zip(*top_20))"
   ]
  },
  {
   "cell_type": "code",
   "execution_count": 41,
   "id": "e8554964",
   "metadata": {},
   "outputs": [
    {
     "data": {
      "image/png": "[encoded data removed]",
      "text/plain": [
       "<Figure size 1440x936 with 1 Axes>"
      ]
     },
     "metadata": {},
     "output_type": "display_data"
    }
   ],
   "source": [
    "sns.set(font_scale=1.8)\n",
    "fig = plt.figure(figsize=(20, 13))\n",
    "plt.bar(words, values, figure=fig, color=['green'])\n",
    "plt.ylabel('20 Most Common Words')\n",
    "plt.title('All Reviews')\n",
    "\n",
    "plt.tight_layout()\n",
    "plt.show()"
   ]
  },
  {
   "cell_type": "markdown",
   "id": "b6e0093a",
   "metadata": {},
   "source": [
    "The data shows the top 20 most common words used and we can see that majority of the users commented 'good' followed by 'one' then 'fun' on the games. Within this top 20 words, there are hardly any negative words inside. With this, we can infer that many users reviewed positively on the games in the past year."
   ]
  },
  {
   "cell_type": "markdown",
   "id": "600dd610",
   "metadata": {},
   "source": [
    "## Separating Positive and Negative reviews\n",
    "\n",
    "I wanted to split the positive reviews and negative reviews so that I am able to identify the commonly used words more accurately."
   ]
  },
  {
   "cell_type": "code",
   "execution_count": 42,
   "id": "1f9007ce",
   "metadata": {},
   "outputs": [
    {
     "data": {
      "text/html": [
       "<div>\n",
       "<style scoped>\n",
       "    .dataframe tbody tr th:only-of-type {\n",
       "        vertical-align: middle;\n",
       "    }\n",
       "\n",
       "    .dataframe tbody tr th {\n",
       "        vertical-align: top;\n",
       "    }\n",
       "\n",
       "    .dataframe thead th {\n",
       "        text-align: right;\n",
       "    }\n",
       "</style>\n",
       "<table border=\"1\" class=\"dataframe\">\n",
       "  <thead>\n",
       "    <tr style=\"text-align: right;\">\n",
       "      <th></th>\n",
       "      <th>voted_up</th>\n",
       "    </tr>\n",
       "  </thead>\n",
       "  <tbody>\n",
       "    <tr>\n",
       "      <th>0</th>\n",
       "      <td>True</td>\n",
       "    </tr>\n",
       "    <tr>\n",
       "      <th>1</th>\n",
       "      <td>True</td>\n",
       "    </tr>\n",
       "    <tr>\n",
       "      <th>2</th>\n",
       "      <td>True</td>\n",
       "    </tr>\n",
       "    <tr>\n",
       "      <th>3</th>\n",
       "      <td>True</td>\n",
       "    </tr>\n",
       "    <tr>\n",
       "      <th>4</th>\n",
       "      <td>True</td>\n",
       "    </tr>\n",
       "    <tr>\n",
       "      <th>...</th>\n",
       "      <td>...</td>\n",
       "    </tr>\n",
       "    <tr>\n",
       "      <th>186605</th>\n",
       "      <td>True</td>\n",
       "    </tr>\n",
       "    <tr>\n",
       "      <th>186606</th>\n",
       "      <td>True</td>\n",
       "    </tr>\n",
       "    <tr>\n",
       "      <th>186607</th>\n",
       "      <td>True</td>\n",
       "    </tr>\n",
       "    <tr>\n",
       "      <th>186608</th>\n",
       "      <td>True</td>\n",
       "    </tr>\n",
       "    <tr>\n",
       "      <th>186609</th>\n",
       "      <td>True</td>\n",
       "    </tr>\n",
       "  </tbody>\n",
       "</table>\n",
       "<p>150475 rows × 1 columns</p>\n",
       "</div>"
      ],
      "text/plain": [
       "        voted_up\n",
       "0           True\n",
       "1           True\n",
       "2           True\n",
       "3           True\n",
       "4           True\n",
       "...          ...\n",
       "186605      True\n",
       "186606      True\n",
       "186607      True\n",
       "186608      True\n",
       "186609      True\n",
       "\n",
       "[150475 rows x 1 columns]"
      ]
     },
     "execution_count": 42,
     "metadata": {},
     "output_type": "execute_result"
    }
   ],
   "source": [
    "vote_true = pd.read_pickle('Data/vote_up.pkl.gz')\n",
    "vote_true = vote_true.drop(vote_true[vote_true.voted_up == False].index)\n",
    "vote_true"
   ]
  },
  {
   "cell_type": "code",
   "execution_count": 43,
   "id": "615b9fac",
   "metadata": {},
   "outputs": [
    {
     "data": {
      "text/html": [
       "<div>\n",
       "<style scoped>\n",
       "    .dataframe tbody tr th:only-of-type {\n",
       "        vertical-align: middle;\n",
       "    }\n",
       "\n",
       "    .dataframe tbody tr th {\n",
       "        vertical-align: top;\n",
       "    }\n",
       "\n",
       "    .dataframe thead th {\n",
       "        text-align: right;\n",
       "    }\n",
       "</style>\n",
       "<table border=\"1\" class=\"dataframe\">\n",
       "  <thead>\n",
       "    <tr style=\"text-align: right;\">\n",
       "      <th></th>\n",
       "      <th>voted_up</th>\n",
       "    </tr>\n",
       "  </thead>\n",
       "  <tbody>\n",
       "    <tr>\n",
       "      <th>18</th>\n",
       "      <td>False</td>\n",
       "    </tr>\n",
       "    <tr>\n",
       "      <th>20</th>\n",
       "      <td>False</td>\n",
       "    </tr>\n",
       "    <tr>\n",
       "      <th>26</th>\n",
       "      <td>False</td>\n",
       "    </tr>\n",
       "    <tr>\n",
       "      <th>50</th>\n",
       "      <td>False</td>\n",
       "    </tr>\n",
       "    <tr>\n",
       "      <th>62</th>\n",
       "      <td>False</td>\n",
       "    </tr>\n",
       "    <tr>\n",
       "      <th>...</th>\n",
       "      <td>...</td>\n",
       "    </tr>\n",
       "    <tr>\n",
       "      <th>186467</th>\n",
       "      <td>False</td>\n",
       "    </tr>\n",
       "    <tr>\n",
       "      <th>186470</th>\n",
       "      <td>False</td>\n",
       "    </tr>\n",
       "    <tr>\n",
       "      <th>186483</th>\n",
       "      <td>False</td>\n",
       "    </tr>\n",
       "    <tr>\n",
       "      <th>186502</th>\n",
       "      <td>False</td>\n",
       "    </tr>\n",
       "    <tr>\n",
       "      <th>186610</th>\n",
       "      <td>False</td>\n",
       "    </tr>\n",
       "  </tbody>\n",
       "</table>\n",
       "<p>36136 rows × 1 columns</p>\n",
       "</div>"
      ],
      "text/plain": [
       "        voted_up\n",
       "18         False\n",
       "20         False\n",
       "26         False\n",
       "50         False\n",
       "62         False\n",
       "...          ...\n",
       "186467     False\n",
       "186470     False\n",
       "186483     False\n",
       "186502     False\n",
       "186610     False\n",
       "\n",
       "[36136 rows x 1 columns]"
      ]
     },
     "execution_count": 43,
     "metadata": {},
     "output_type": "execute_result"
    }
   ],
   "source": [
    "vote_false = pd.read_pickle('Data/vote_up.pkl.gz')\n",
    "vote_false = vote_false.drop(vote_false[vote_false.voted_up == True].index)\n",
    "vote_false"
   ]
  },
  {
   "cell_type": "code",
   "execution_count": 44,
   "id": "752e5d05",
   "metadata": {},
   "outputs": [
    {
     "data": {
      "text/html": [
       "<div>\n",
       "<style scoped>\n",
       "    .dataframe tbody tr th:only-of-type {\n",
       "        vertical-align: middle;\n",
       "    }\n",
       "\n",
       "    .dataframe tbody tr th {\n",
       "        vertical-align: top;\n",
       "    }\n",
       "\n",
       "    .dataframe thead th {\n",
       "        text-align: right;\n",
       "    }\n",
       "</style>\n",
       "<table border=\"1\" class=\"dataframe\">\n",
       "  <thead>\n",
       "    <tr style=\"text-align: right;\">\n",
       "      <th></th>\n",
       "      <th>review</th>\n",
       "      <th>voted_up</th>\n",
       "    </tr>\n",
       "  </thead>\n",
       "  <tbody>\n",
       "    <tr>\n",
       "      <th>0</th>\n",
       "      <td>came already played demo countless times surpr...</td>\n",
       "      <td>True</td>\n",
       "    </tr>\n",
       "    <tr>\n",
       "      <th>1</th>\n",
       "      <td>passenger story self discovery want become fig...</td>\n",
       "      <td>True</td>\n",
       "    </tr>\n",
       "    <tr>\n",
       "      <th>2</th>\n",
       "      <td>jonny always biggest fan thats wife</td>\n",
       "      <td>True</td>\n",
       "    </tr>\n",
       "    <tr>\n",
       "      <th>3</th>\n",
       "      <td>hooked story ever since read demo years ago ca...</td>\n",
       "      <td>True</td>\n",
       "    </tr>\n",
       "    <tr>\n",
       "      <th>4</th>\n",
       "      <td>following development year unbelievably please...</td>\n",
       "      <td>True</td>\n",
       "    </tr>\n",
       "    <tr>\n",
       "      <th>...</th>\n",
       "      <td>...</td>\n",
       "      <td>...</td>\n",
       "    </tr>\n",
       "    <tr>\n",
       "      <th>150470</th>\n",
       "      <td>playing giving 10 mental darkness hour 5 stres...</td>\n",
       "      <td>True</td>\n",
       "    </tr>\n",
       "    <tr>\n",
       "      <th>150471</th>\n",
       "      <td>fix fix fix fix fix fix fix fix fix fix fix fi...</td>\n",
       "      <td>True</td>\n",
       "    </tr>\n",
       "    <tr>\n",
       "      <th>150472</th>\n",
       "      <td>love mental health</td>\n",
       "      <td>True</td>\n",
       "    </tr>\n",
       "    <tr>\n",
       "      <th>150473</th>\n",
       "      <td>relate mean need therapy lol</td>\n",
       "      <td>True</td>\n",
       "    </tr>\n",
       "    <tr>\n",
       "      <th>150474</th>\n",
       "      <td>quote puzzle reviews news everything puzzle re...</td>\n",
       "      <td>True</td>\n",
       "    </tr>\n",
       "  </tbody>\n",
       "</table>\n",
       "<p>150475 rows × 2 columns</p>\n",
       "</div>"
      ],
      "text/plain": [
       "                                                   review  voted_up\n",
       "0       came already played demo countless times surpr...      True\n",
       "1       passenger story self discovery want become fig...      True\n",
       "2                     jonny always biggest fan thats wife      True\n",
       "3       hooked story ever since read demo years ago ca...      True\n",
       "4       following development year unbelievably please...      True\n",
       "...                                                   ...       ...\n",
       "150470  playing giving 10 mental darkness hour 5 stres...      True\n",
       "150471  fix fix fix fix fix fix fix fix fix fix fix fi...      True\n",
       "150472                                 love mental health      True\n",
       "150473                       relate mean need therapy lol      True\n",
       "150474  quote puzzle reviews news everything puzzle re...      True\n",
       "\n",
       "[150475 rows x 2 columns]"
      ]
     },
     "execution_count": 44,
     "metadata": {},
     "output_type": "execute_result"
    }
   ],
   "source": [
    "vote_true_data = pd.concat([token_data, vote_true], axis=1, join='inner')\n",
    "vote_true_data.reset_index(drop=True, inplace=True)\n",
    "vote_true_data"
   ]
  },
  {
   "cell_type": "code",
   "execution_count": 45,
   "id": "3e1ed573",
   "metadata": {},
   "outputs": [
    {
     "data": {
      "text/html": [
       "<div>\n",
       "<style scoped>\n",
       "    .dataframe tbody tr th:only-of-type {\n",
       "        vertical-align: middle;\n",
       "    }\n",
       "\n",
       "    .dataframe tbody tr th {\n",
       "        vertical-align: top;\n",
       "    }\n",
       "\n",
       "    .dataframe thead th {\n",
       "        text-align: right;\n",
       "    }\n",
       "</style>\n",
       "<table border=\"1\" class=\"dataframe\">\n",
       "  <thead>\n",
       "    <tr style=\"text-align: right;\">\n",
       "      <th></th>\n",
       "      <th>review</th>\n",
       "      <th>voted_up</th>\n",
       "    </tr>\n",
       "  </thead>\n",
       "  <tbody>\n",
       "    <tr>\n",
       "      <th>0</th>\n",
       "      <td>started found excited concept playing decided ...</td>\n",
       "      <td>False</td>\n",
       "    </tr>\n",
       "    <tr>\n",
       "      <th>1</th>\n",
       "      <td>think people write lost respect readers mean t...</td>\n",
       "      <td>False</td>\n",
       "    </tr>\n",
       "    <tr>\n",
       "      <th>2</th>\n",
       "      <td>utter garbage complete waste time disclaimer p...</td>\n",
       "      <td>False</td>\n",
       "    </tr>\n",
       "    <tr>\n",
       "      <th>3</th>\n",
       "      <td>pay creator 10 remove steam</td>\n",
       "      <td>False</td>\n",
       "    </tr>\n",
       "    <tr>\n",
       "      <th>4</th>\n",
       "      <td>6 years since much squid added fairly disappoi...</td>\n",
       "      <td>False</td>\n",
       "    </tr>\n",
       "    <tr>\n",
       "      <th>...</th>\n",
       "      <td>...</td>\n",
       "      <td>...</td>\n",
       "    </tr>\n",
       "    <tr>\n",
       "      <th>36131</th>\n",
       "      <td>great fan nekonyan one meh begin cringe utmost...</td>\n",
       "      <td>False</td>\n",
       "    </tr>\n",
       "    <tr>\n",
       "      <th>36132</th>\n",
       "      <td>wow bad cant stop self skipping dialog bad don...</td>\n",
       "      <td>False</td>\n",
       "    </tr>\n",
       "    <tr>\n",
       "      <th>36133</th>\n",
       "      <td>aggressively mediocre throughout play time</td>\n",
       "      <td>False</td>\n",
       "    </tr>\n",
       "    <tr>\n",
       "      <th>36134</th>\n",
       "      <td>dont know recommend know played 40 minutes soo...</td>\n",
       "      <td>False</td>\n",
       "    </tr>\n",
       "    <tr>\n",
       "      <th>36135</th>\n",
       "      <td>expecting slot machine preview nothing else se...</td>\n",
       "      <td>False</td>\n",
       "    </tr>\n",
       "  </tbody>\n",
       "</table>\n",
       "<p>36136 rows × 2 columns</p>\n",
       "</div>"
      ],
      "text/plain": [
       "                                                  review  voted_up\n",
       "0      started found excited concept playing decided ...     False\n",
       "1      think people write lost respect readers mean t...     False\n",
       "2      utter garbage complete waste time disclaimer p...     False\n",
       "3                            pay creator 10 remove steam     False\n",
       "4      6 years since much squid added fairly disappoi...     False\n",
       "...                                                  ...       ...\n",
       "36131  great fan nekonyan one meh begin cringe utmost...     False\n",
       "36132  wow bad cant stop self skipping dialog bad don...     False\n",
       "36133         aggressively mediocre throughout play time     False\n",
       "36134  dont know recommend know played 40 minutes soo...     False\n",
       "36135  expecting slot machine preview nothing else se...     False\n",
       "\n",
       "[36136 rows x 2 columns]"
      ]
     },
     "execution_count": 45,
     "metadata": {},
     "output_type": "execute_result"
    }
   ],
   "source": [
    "vote_false_data = pd.concat([token_data, vote_false], axis=1, join='inner')\n",
    "vote_false_data.reset_index(drop=True, inplace=True)\n",
    "vote_false_data"
   ]
  },
  {
   "cell_type": "code",
   "execution_count": 46,
   "id": "f11bd816",
   "metadata": {},
   "outputs": [],
   "source": [
    "vote_true_data = vote_true_data.dropna(subset=['review'])\n",
    "vote_true_data = vote_true_data.fillna(' ')\n",
    "\n",
    "vote_false_data = vote_false_data.dropna(subset=['review'])\n",
    "vote_false_data = vote_false_data.fillna(' ')\n",
    "\n",
    "vote_true_vocabulary = []\n",
    "for review in vote_true_data['review'].tolist():\n",
    "    vote_true_vocabulary += review.split()\n",
    "    \n",
    "vote_false_vocabulary = []\n",
    "for review in vote_false_data['review'].tolist():\n",
    "    vote_false_vocabulary += review.split()"
   ]
  },
  {
   "cell_type": "code",
   "execution_count": 47,
   "id": "9f5a02ac",
   "metadata": {},
   "outputs": [
    {
     "name": "stdout",
     "output_type": "stream",
     "text": [
      "There are 111160 unique tokens in the dataset.\n",
      "There are 58885 unique tokens in the dataset.\n"
     ]
    }
   ],
   "source": [
    "print('There are {} unique tokens in the dataset.'.format(len(set(vote_true_vocabulary))))\n",
    "print('There are {} unique tokens in the dataset.'.format(len(set(vote_false_vocabulary))))"
   ]
  },
  {
   "cell_type": "markdown",
   "id": "b0eb05d8",
   "metadata": {},
   "source": [
    "## Top 20 common words\n",
    "\n",
    "The code below is to identify the 20 most commonly used words in the positive and negative reviews seperately."
   ]
  },
  {
   "cell_type": "code",
   "execution_count": 48,
   "id": "02bf01aa",
   "metadata": {},
   "outputs": [],
   "source": [
    "freqdist_pos = FreqDist(vote_true_vocabulary)\n",
    "top_20_pos = freqdist_pos.most_common(20)\n",
    "\n",
    "freqdist_neg = FreqDist(vote_false_vocabulary)\n",
    "top_20_neg = freqdist_neg.most_common(20)\n",
    "\n",
    "words_pos, values_pos = list(zip(*top_20_pos))\n",
    "words_neg, values_neg = list(zip(*top_20_neg))"
   ]
  },
  {
   "cell_type": "code",
   "execution_count": 49,
   "id": "22069384",
   "metadata": {},
   "outputs": [
    {
     "data": {
      "image/png": "[encoded data removed]",
      "text/plain": [
       "<Figure size 1440x936 with 1 Axes>"
      ]
     },
     "metadata": {},
     "output_type": "display_data"
    }
   ],
   "source": [
    "sns.set(font_scale=1.6)\n",
    "fig = plt.figure(figsize=(20, 13))\n",
    "plt.bar(words_pos, values_pos, figure=fig, color='green')\n",
    "plt.ylabel('20 Most Common Words')\n",
    "plt.title('Positive Reviews')\n",
    "\n",
    "plt.tight_layout()\n",
    "plt.show()"
   ]
  },
  {
   "cell_type": "markdown",
   "id": "fb714f2f",
   "metadata": {},
   "source": [
    "From this plot, we can see that it is similar to the previous all reviews plot. The top 20 words are positive where 'good', 'fun' and 'one' are in the top 3 used words."
   ]
  },
  {
   "cell_type": "code",
   "execution_count": 50,
   "id": "40c7522d",
   "metadata": {},
   "outputs": [
    {
     "data": {
      "image/png": "[encoded data removed]",
      "text/plain": [
       "<Figure size 1440x936 with 1 Axes>"
      ]
     },
     "metadata": {},
     "output_type": "display_data"
    }
   ],
   "source": [
    "sns.set(font_scale=1.6)\n",
    "fig = plt.figure(figsize=(20, 13))\n",
    "plt.bar(words_neg, values_neg, figure=fig, color='red')\n",
    "plt.ylabel('20 Most Common Words')\n",
    "plt.title('Negative Reviews')\n",
    "\n",
    "plt.tight_layout()\n",
    "plt.show()"
   ]
  },
  {
   "cell_type": "markdown",
   "id": "227c5e4b",
   "metadata": {},
   "source": [
    "In this plot, dispite focusing on the negative reviews, many positive words are in the plot such as 'good', 'fun' and 'one'. "
   ]
  },
  {
   "cell_type": "code",
   "execution_count": 51,
   "id": "1bcfc438",
   "metadata": {},
   "outputs": [],
   "source": [
    "positive_dict = dict(zip(words_pos, values_pos))\n",
    "negative_dict = dict(zip(words_neg, values_neg))"
   ]
  },
  {
   "cell_type": "markdown",
   "id": "1bdf4eef",
   "metadata": {},
   "source": [
    "## Wordcloud\n",
    "\n",
    "I generated a wordcloud for the positive and negative words used to help identify the unique words used most commonly."
   ]
  },
  {
   "cell_type": "code",
   "execution_count": 52,
   "id": "551bb3d9",
   "metadata": {},
   "outputs": [
    {
     "data": {
      "image/png": "[encoded data removed]",
      "text/plain": [
       "<Figure size 432x288 with 1 Axes>"
      ]
     },
     "metadata": {},
     "output_type": "display_data"
    }
   ],
   "source": [
    "wordcloud = WordCloud(colormap='Greens').generate_from_frequencies(positive_dict)\n",
    "plt.imshow(wordcloud, interpolation='bilinear')\n",
    "plt.axis(\"off\")\n",
    "\n",
    "plt.tight_layout()\n",
    "plt.show()"
   ]
  },
  {
   "cell_type": "code",
   "execution_count": 53,
   "id": "43503f61",
   "metadata": {},
   "outputs": [
    {
     "data": {
      "image/png": "[encoded data removed]",
      "text/plain": [
       "<Figure size 432x288 with 1 Axes>"
      ]
     },
     "metadata": {},
     "output_type": "display_data"
    }
   ],
   "source": [
    "wordcloud = WordCloud(colormap='Reds').generate_from_frequencies(negative_dict)\n",
    "plt.imshow(wordcloud, interpolation='bilinear')\n",
    "plt.axis(\"off\")\n",
    "\n",
    "plt.tight_layout()\n",
    "plt.show()"
   ]
  },
  {
   "cell_type": "markdown",
   "id": "f6bf5ea1",
   "metadata": {},
   "source": [
    "## Summary\n",
    "\n",
    "In conclusion, from the data explored, by comparing between the ratings and prices, we can tell that from the past year, the vast majority of the games that have low pricing are published by indie developers. This largely affects the user's interest as majority of them will not look for these games. This contributes to many of the ratings being 0 whereby there is not enough reviews to determine the game's rating. With that said, from the analysis, the general sentiment of the public to the recently release games that have been played and reviewed are generally positive to very positive.\n",
    "\n",
    "Furthermore, from the user reviews extracted, many of the most common words are used in both cases. Words like \"fun\" and \"one\" appear numerous times, and even \"time\" has similar representation across the two cases. The frequency distribution charts and wordclouds above show this well. With the positive sentiment from the public, it makes sense that several key words appear in both cases. However some words that do appear lack the context at hand or do not have any meaning to them such as \"see\", \"feel\" and \"much\". "
   ]
  },
  {
   "cell_type": "markdown",
   "id": "4702bab3",
   "metadata": {},
   "source": [
    "### References\n",
    "\n",
    "1. Selenium documentation library : https://pypi.org/project/selenium/\n",
    "2. Selenium 4.7 documentation: https://www.selenium.dev/selenium/docs/api/py/webdriver/selenium.webdriver.common.by.html\n",
    "3. Steam website(New releases): https://store.steampowered.com/search/?sort_by=Released_DESC&category1=998&ndl=1\n",
    "4. Steamworks Documentation: https://partner.steamgames.com/doc/webapi/ISteamApps\n",
    "5. Steamworks Documentation - User Reviews - Get List: https://partner.steamgames.com/doc/store/getreviews\n",
    "6. Plot multiple plots in Matplotlib: https://www.geeksforgeeks.org/plot-multiple-plots-in-matplotlib/\n",
    "7. DataFrame plot: https://pandas.pydata.org/pandas-docs/version/0.23/generated/pandas.DataFrame.plot.html\n",
    "8. Stopwords: https://www.geeksforgeeks.org/removing-stop-words-nltk-python/\n",
    "9. NLTK Library: https://www.nltk.org/"
   ]
  }
 ],
 "metadata": {
  "kernelspec": {
   "display_name": "Python 3 (ipykernel)",
   "language": "python",
   "name": "python3"
  },
  "language_info": {
   "codemirror_mode": {
    "name": "ipython",
    "version": 3
   },
   "file_extension": ".py",
   "mimetype": "text/x-python",
   "name": "python",
   "nbconvert_exporter": "python",
   "pygments_lexer": "ipython3",
   "version": "3.9.12"
  }
 },
 "nbformat": 4,
 "nbformat_minor": 5
}
